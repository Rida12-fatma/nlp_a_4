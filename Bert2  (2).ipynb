{
 "cells": [
  {
   "cell_type": "code",
   "execution_count": 1,
   "id": "4765b136-11de-4612-91b0-72ab412fdd1d",
   "metadata": {},
   "outputs": [
    {
     "name": "stdout",
     "output_type": "stream",
     "text": [
      "Defaulting to user installation because normal site-packages is not writeable\n",
      "Requirement already satisfied: torch in ./.local/lib/python3.12/site-packages (2.5.1+cu121)\n",
      "Requirement already satisfied: transformers in ./.local/lib/python3.12/site-packages (4.48.3)\n",
      "Requirement already satisfied: datasets in ./.local/lib/python3.12/site-packages (3.2.0)\n",
      "Requirement already satisfied: filelock in ./.local/lib/python3.12/site-packages (from torch) (3.17.0)\n",
      "Requirement already satisfied: typing-extensions>=4.8.0 in /opt/tljh/user/lib/python3.12/site-packages (from torch) (4.12.2)\n",
      "Requirement already satisfied: networkx in ./.local/lib/python3.12/site-packages (from torch) (3.4.2)\n",
      "Requirement already satisfied: jinja2 in /opt/tljh/user/lib/python3.12/site-packages (from torch) (3.1.4)\n",
      "Requirement already satisfied: fsspec in ./.local/lib/python3.12/site-packages (from torch) (2024.9.0)\n",
      "Requirement already satisfied: nvidia-cuda-nvrtc-cu12==12.1.105 in ./.local/lib/python3.12/site-packages (from torch) (12.1.105)\n",
      "Requirement already satisfied: nvidia-cuda-runtime-cu12==12.1.105 in ./.local/lib/python3.12/site-packages (from torch) (12.1.105)\n",
      "Requirement already satisfied: nvidia-cuda-cupti-cu12==12.1.105 in ./.local/lib/python3.12/site-packages (from torch) (12.1.105)\n",
      "Requirement already satisfied: nvidia-cudnn-cu12==9.1.0.70 in ./.local/lib/python3.12/site-packages (from torch) (9.1.0.70)\n",
      "Requirement already satisfied: nvidia-cublas-cu12==12.1.3.1 in ./.local/lib/python3.12/site-packages (from torch) (12.1.3.1)\n",
      "Requirement already satisfied: nvidia-cufft-cu12==11.0.2.54 in ./.local/lib/python3.12/site-packages (from torch) (11.0.2.54)\n",
      "Requirement already satisfied: nvidia-curand-cu12==10.3.2.106 in ./.local/lib/python3.12/site-packages (from torch) (10.3.2.106)\n",
      "Requirement already satisfied: nvidia-cusolver-cu12==11.4.5.107 in ./.local/lib/python3.12/site-packages (from torch) (11.4.5.107)\n",
      "Requirement already satisfied: nvidia-cusparse-cu12==12.1.0.106 in ./.local/lib/python3.12/site-packages (from torch) (12.1.0.106)\n",
      "Requirement already satisfied: nvidia-nccl-cu12==2.21.5 in ./.local/lib/python3.12/site-packages (from torch) (2.21.5)\n",
      "Requirement already satisfied: nvidia-nvtx-cu12==12.1.105 in ./.local/lib/python3.12/site-packages (from torch) (12.1.105)\n",
      "Requirement already satisfied: triton==3.1.0 in ./.local/lib/python3.12/site-packages (from torch) (3.1.0)\n",
      "Requirement already satisfied: setuptools in /opt/tljh/user/lib/python3.12/site-packages (from torch) (74.1.2)\n",
      "Requirement already satisfied: sympy==1.13.1 in ./.local/lib/python3.12/site-packages (from torch) (1.13.1)\n",
      "Requirement already satisfied: nvidia-nvjitlink-cu12 in ./.local/lib/python3.12/site-packages (from nvidia-cusolver-cu12==11.4.5.107->torch) (12.4.127)\n",
      "Requirement already satisfied: mpmath<1.4,>=1.1.0 in ./.local/lib/python3.12/site-packages (from sympy==1.13.1->torch) (1.3.0)\n",
      "Requirement already satisfied: huggingface-hub<1.0,>=0.24.0 in ./.local/lib/python3.12/site-packages (from transformers) (0.28.1)\n",
      "Requirement already satisfied: numpy>=1.17 in /opt/tljh/user/lib/python3.12/site-packages (from transformers) (2.2.0)\n",
      "Requirement already satisfied: packaging>=20.0 in /opt/tljh/user/lib/python3.12/site-packages (from transformers) (24.1)\n",
      "Requirement already satisfied: pyyaml>=5.1 in /opt/tljh/user/lib/python3.12/site-packages (from transformers) (6.0.2)\n",
      "Requirement already satisfied: regex!=2019.12.17 in ./.local/lib/python3.12/site-packages (from transformers) (2024.11.6)\n",
      "Requirement already satisfied: requests in /opt/tljh/user/lib/python3.12/site-packages (from transformers) (2.32.3)\n",
      "Requirement already satisfied: tokenizers<0.22,>=0.21 in ./.local/lib/python3.12/site-packages (from transformers) (0.21.0)\n",
      "Requirement already satisfied: safetensors>=0.4.1 in ./.local/lib/python3.12/site-packages (from transformers) (0.5.2)\n",
      "Requirement already satisfied: tqdm>=4.27 in /opt/tljh/user/lib/python3.12/site-packages (from transformers) (4.66.5)\n",
      "Requirement already satisfied: pyarrow>=15.0.0 in ./.local/lib/python3.12/site-packages (from datasets) (19.0.0)\n",
      "Requirement already satisfied: dill<0.3.9,>=0.3.0 in ./.local/lib/python3.12/site-packages (from datasets) (0.3.8)\n",
      "Requirement already satisfied: pandas in /opt/tljh/user/lib/python3.12/site-packages (from datasets) (2.2.3)\n",
      "Requirement already satisfied: xxhash in ./.local/lib/python3.12/site-packages (from datasets) (3.5.0)\n",
      "Requirement already satisfied: multiprocess<0.70.17 in ./.local/lib/python3.12/site-packages (from datasets) (0.70.16)\n",
      "Requirement already satisfied: aiohttp in ./.local/lib/python3.12/site-packages (from datasets) (3.11.12)\n",
      "Requirement already satisfied: aiohappyeyeballs>=2.3.0 in ./.local/lib/python3.12/site-packages (from aiohttp->datasets) (2.4.4)\n",
      "Requirement already satisfied: aiosignal>=1.1.2 in ./.local/lib/python3.12/site-packages (from aiohttp->datasets) (1.3.2)\n",
      "Requirement already satisfied: attrs>=17.3.0 in /opt/tljh/user/lib/python3.12/site-packages (from aiohttp->datasets) (24.3.0)\n",
      "Requirement already satisfied: frozenlist>=1.1.1 in ./.local/lib/python3.12/site-packages (from aiohttp->datasets) (1.5.0)\n",
      "Requirement already satisfied: multidict<7.0,>=4.5 in ./.local/lib/python3.12/site-packages (from aiohttp->datasets) (6.1.0)\n",
      "Requirement already satisfied: propcache>=0.2.0 in ./.local/lib/python3.12/site-packages (from aiohttp->datasets) (0.2.1)\n",
      "Requirement already satisfied: yarl<2.0,>=1.17.0 in ./.local/lib/python3.12/site-packages (from aiohttp->datasets) (1.18.3)\n",
      "Requirement already satisfied: charset-normalizer<4,>=2 in /opt/tljh/user/lib/python3.12/site-packages (from requests->transformers) (3.3.2)\n",
      "Requirement already satisfied: idna<4,>=2.5 in /opt/tljh/user/lib/python3.12/site-packages (from requests->transformers) (3.10)\n",
      "Requirement already satisfied: urllib3<3,>=1.21.1 in /opt/tljh/user/lib/python3.12/site-packages (from requests->transformers) (2.2.3)\n",
      "Requirement already satisfied: certifi>=2017.4.17 in /opt/tljh/user/lib/python3.12/site-packages (from requests->transformers) (2024.12.14)\n",
      "Requirement already satisfied: MarkupSafe>=2.0 in /opt/tljh/user/lib/python3.12/site-packages (from jinja2->torch) (3.0.2)\n",
      "Requirement already satisfied: python-dateutil>=2.8.2 in /opt/tljh/user/lib/python3.12/site-packages (from pandas->datasets) (2.9.0.post0)\n",
      "Requirement already satisfied: pytz>=2020.1 in /opt/tljh/user/lib/python3.12/site-packages (from pandas->datasets) (2024.2)\n",
      "Requirement already satisfied: tzdata>=2022.7 in /opt/tljh/user/lib/python3.12/site-packages (from pandas->datasets) (2024.2)\n",
      "Requirement already satisfied: six>=1.5 in /opt/tljh/user/lib/python3.12/site-packages (from python-dateutil>=2.8.2->pandas->datasets) (1.17.0)\n"
     ]
    }
   ],
   "source": [
    "# Install necessary libraries if not already installed\n",
    "!pip install torch transformers datasets\n",
    "\n",
    "import torch\n",
    "from torch.utils.data import Dataset, DataLoader\n",
    "from transformers import BertTokenizer\n",
    "from datasets import load_dataset\n",
    "import math\n",
    "\n"
   ]
  },
  {
   "cell_type": "code",
   "execution_count": 2,
   "id": "75f595b8-9a44-45d3-9058-468091541937",
   "metadata": {},
   "outputs": [
    {
     "name": "stdout",
     "output_type": "stream",
     "text": [
      "Using device: cuda\n"
     ]
    }
   ],
   "source": [
    "# Check if CUDA is available\n",
    "device = torch.device('cuda' if torch.cuda.is_available() else 'cpu')\n",
    "print(f\"Using device: {device}\")\n",
    "\n"
   ]
  },
  {
   "cell_type": "code",
   "execution_count": 3,
   "id": "a3fe1885-a6cf-46d1-b8e3-c66f7c565fdc",
   "metadata": {},
   "outputs": [
    {
     "name": "stdout",
     "output_type": "stream",
     "text": [
      "Total samples: 74004228\n"
     ]
    }
   ],
   "source": [
    "# Load the BookCorpus dataset from Hugging Face\n",
    "dataset = load_dataset('bookcorpus', split='train')\n",
    "print(\"Total samples:\", len(dataset))\n"
   ]
  },
  {
   "cell_type": "code",
   "execution_count": 4,
   "id": "5f50e959-3dcb-4477-a6b4-a95ac4a0bbf7",
   "metadata": {},
   "outputs": [
    {
     "name": "stdout",
     "output_type": "stream",
     "text": [
      "Subset size: 100000\n"
     ]
    }
   ],
   "source": [
    "# Limit to 100k samples as specified\n",
    "dataset = dataset.select(range(100000))\n",
    "print(\"Subset size:\", len(dataset))\n"
   ]
  },
  {
   "cell_type": "code",
   "execution_count": 5,
   "id": "16bcea52-e53b-490d-a763-838617aeba62",
   "metadata": {},
   "outputs": [],
   "source": [
    "# Initialize the BERT tokenizer (WordPiece)\n",
    "tokenizer = BertTokenizer.from_pretrained('bert-base-uncased')\n"
   ]
  },
  {
   "cell_type": "code",
   "execution_count": 6,
   "id": "52d3796a-7f07-4fd4-b2cb-915c11569d5d",
   "metadata": {},
   "outputs": [],
   "source": [
    "# Tokenization and Preprocessing Function\n",
    "def preprocess(text):\n",
    "    # Tokenize and encode input text\n",
    "    encoding = tokenizer(text, \n",
    "                         add_special_tokens=True, \n",
    "                         truncation=True,\n",
    "                         max_length=128, \n",
    "                         padding='max_length', \n",
    "                         return_tensors='pt')\n",
    "    \n",
    "    # Flatten tensor to (seq_length)\n",
    "    input_ids = encoding['input_ids'].squeeze()\n",
    "    attention_mask = encoding['attention_mask'].squeeze()\n",
    "    \n",
    "    # Create segment ids (all zeros for single sentence input)\n",
    "    segment_ids = torch.zeros_like(input_ids)\n",
    "    \n",
    "    return input_ids, attention_mask, segment_ids\n"
   ]
  },
  {
   "cell_type": "code",
   "execution_count": 7,
   "id": "8f8edac3-e8ba-4da2-b815-63ab4223714e",
   "metadata": {},
   "outputs": [],
   "source": [
    "from torch.utils.data import Dataset\n",
    "\n",
    "# Custom Dataset Class for BookCorpus\n",
    "class BookCorpusDataset(Dataset):\n",
    "    def __init__(self, dataset):\n",
    "        self.dataset = dataset\n",
    "    \n",
    "    def __len__(self):\n",
    "        return len(self.dataset)\n",
    "    \n",
    "    def __getitem__(self, idx):\n",
    "        text = self.dataset[idx]['text']\n",
    "        input_ids, attention_mask, segment_ids = preprocess(text)\n",
    "        return input_ids, attention_mask, segment_ids\n"
   ]
  },
  {
   "cell_type": "code",
   "execution_count": 8,
   "id": "55be2b8a-b1d1-4b4c-b518-c0a8e01ed828",
   "metadata": {},
   "outputs": [
    {
     "name": "stdout",
     "output_type": "stream",
     "text": [
      "Input IDs: torch.Size([8, 128])\n",
      "Attention Mask: torch.Size([8, 128])\n",
      "Segment IDs: torch.Size([8, 128])\n"
     ]
    }
   ],
   "source": [
    "# Create DataLoader for \n",
    "train_dataset = BookCorpusDataset(dataset)\n",
    "train_loader = DataLoader(train_dataset, batch_size= 8, shuffle=True)\n",
    "\n",
    "# Sample check\n",
    "for batch in train_loader:\n",
    "    input_ids, attention_mask, segment_ids = batch\n",
    "    print(\"Input IDs:\", input_ids.shape)\n",
    "    print(\"Attention Mask:\", attention_mask.shape)\n",
    "    print(\"Segment IDs:\", segment_ids.shape)\n",
    "    break\n"
   ]
  },
  {
   "cell_type": "markdown",
   "id": "2a9f5076-7027-4ed7-8c78-9d1a498cb563",
   "metadata": {},
   "source": [
    "Tokenization and Masking for MLM"
   ]
  },
  {
   "cell_type": "code",
   "execution_count": 9,
   "id": "0628d88e-a701-4848-b13b-b28a70985845",
   "metadata": {},
   "outputs": [],
   "source": [
    "import random\n",
    "\n",
    "def mask_tokens(input_ids, tokenizer, mask_prob=0.15):\n",
    "    \"\"\"\n",
    "    Prepare masked tokens inputs/labels for masked language modeling.\n",
    "    \"\"\"\n",
    "    labels = input_ids.clone()\n",
    "    \n",
    "    # Masking (15% of tokens)\n",
    "    probability_matrix = torch.full(labels.shape, mask_prob)\n",
    "    masked_indices = torch.bernoulli(probability_matrix).bool()\n",
    "    labels[~masked_indices] = -100  # Only compute loss on masked tokens\n",
    "    \n",
    "    # Replace 80% of the time with [MASK]\n",
    "    indices_replaced = (torch.bernoulli(torch.full(labels.shape, 0.8)).bool() & masked_indices)\n",
    "    input_ids[indices_replaced] = tokenizer.convert_tokens_to_ids(tokenizer.mask_token)\n",
    "    \n",
    "    # Replace 10% of the time with random token\n",
    "    indices_random = (torch.bernoulli(torch.full(labels.shape, 0.5)).bool() & masked_indices & ~indices_replaced)\n",
    "    random_words = torch.randint(len(tokenizer), labels.shape, dtype=torch.long).to(input_ids.device)  # Move to the same device\n",
    "    input_ids[indices_random] = random_words[indices_random]\n",
    "    \n",
    "    # 10% of the time, keep the original token (already done by default)\n",
    "    return input_ids, labels\n",
    "\n"
   ]
  },
  {
   "cell_type": "markdown",
   "id": "7642e93f-67cd-498a-a9f6-2bb9b534711d",
   "metadata": {},
   "source": [
    "Implementation: BERTEmbedding\n",
    "\n"
   ]
  },
  {
   "cell_type": "code",
   "execution_count": 10,
   "id": "f33f25d6-ada5-4fef-8bf4-a08ec7a5dc00",
   "metadata": {},
   "outputs": [],
   "source": [
    "import torch\n",
    "import torch.nn as nn\n",
    "\n",
    "class BERTEmbedding(nn.Module):\n",
    "    def __init__(self, vocab_size, hidden_dim, max_position_embeddings, segment_vocab_size=2, dropout_prob=0.1):\n",
    "        super(BERTEmbedding, self).__init__()\n",
    "        # Token Embeddings\n",
    "        self.token_embeddings = nn.Embedding(vocab_size, hidden_dim)\n",
    "        \n",
    "        # Position Embeddings\n",
    "        self.position_embeddings = nn.Embedding(max_position_embeddings, hidden_dim)\n",
    "        \n",
    "        # Segment Embeddings (For sentence pairs in NLI tasks)\n",
    "        self.segment_embeddings = nn.Embedding(segment_vocab_size, hidden_dim)\n",
    "        \n",
    "        # Layer Normalization and Dropout\n",
    "        self.layer_norm = nn.LayerNorm(hidden_dim, eps=1e-12)\n",
    "        self.dropout = nn.Dropout(dropout_prob)\n",
    "    \n",
    "    def forward(self, input_ids, segment_ids):\n",
    "        seq_length = input_ids.size(1)\n",
    "        \n",
    "        # Position IDs [0, 1, 2, ..., seq_length-1]\n",
    "        position_ids = torch.arange(seq_length, dtype=torch.long, device=input_ids.device)\n",
    "        position_ids = position_ids.unsqueeze(0).expand_as(input_ids)\n",
    "        \n",
    "        # Get Embeddings\n",
    "        token_embeddings = self.token_embeddings(input_ids)\n",
    "        position_embeddings = self.position_embeddings(position_ids)\n",
    "        segment_embeddings = self.segment_embeddings(segment_ids)\n",
    "        \n",
    "        # Sum and Normalize\n",
    "        embeddings = token_embeddings + position_embeddings + segment_embeddings\n",
    "        embeddings = self.layer_norm(embeddings)\n",
    "        embeddings = self.dropout(embeddings)\n",
    "        \n",
    "        return embeddings\n"
   ]
  },
  {
   "cell_type": "markdown",
   "id": "1c6ed618-edb6-41c1-9188-2314f7539bef",
   "metadata": {},
   "source": [
    "Implementation: MultiHeadSelfAttention\n",
    "\n"
   ]
  },
  {
   "cell_type": "code",
   "execution_count": 11,
   "id": "9250c1de-149e-4d5e-91da-4aeacd09a272",
   "metadata": {},
   "outputs": [],
   "source": [
    "class MultiHeadSelfAttention(nn.Module):\n",
    "    def __init__(self, hidden_dim, num_heads, dropout_prob=0.1):\n",
    "        super(MultiHeadSelfAttention, self).__init__()\n",
    "        assert hidden_dim % num_heads == 0\n",
    "        \n",
    "        # Parameters\n",
    "        self.num_heads = num_heads\n",
    "        self.head_dim = hidden_dim // num_heads\n",
    "        \n",
    "        # Linear layers for Q, K, V\n",
    "        self.query = nn.Linear(hidden_dim, hidden_dim)\n",
    "        self.key = nn.Linear(hidden_dim, hidden_dim)\n",
    "        self.value = nn.Linear(hidden_dim, hidden_dim)\n",
    "        \n",
    "        # Output projection\n",
    "        self.out = nn.Linear(hidden_dim, hidden_dim)\n",
    "        \n",
    "        # Dropout for attention scores\n",
    "        self.dropout = nn.Dropout(dropout_prob)\n",
    "        \n",
    "    def forward(self, hidden_states, attention_mask):\n",
    "        batch_size, seq_length, hidden_dim = hidden_states.size()\n",
    "        \n",
    "        # Linear projections\n",
    "        query = self.query(hidden_states)\n",
    "        key = self.key(hidden_states)\n",
    "        value = self.value(hidden_states)\n",
    "        \n",
    "        # Reshape to (batch_size, num_heads, seq_length, head_dim)\n",
    "        query = query.view(batch_size, seq_length, self.num_heads, self.head_dim).transpose(1, 2)\n",
    "        key = key.view(batch_size, seq_length, self.num_heads, self.head_dim).transpose(1, 2)\n",
    "        value = value.view(batch_size, seq_length, self.num_heads, self.head_dim).transpose(1, 2)\n",
    "        \n",
    "        # Scaled Dot-Product Attention\n",
    "        attention_scores = torch.matmul(query, key.transpose(-2, -1)) / math.sqrt(self.head_dim)\n",
    "        attention_scores += attention_mask\n",
    "        \n",
    "        attention_probs = nn.Softmax(dim=-1)(attention_scores)\n",
    "        attention_probs = self.dropout(attention_probs)\n",
    "        \n",
    "        context = torch.matmul(attention_probs, value)\n",
    "        context = context.transpose(1, 2).contiguous().view(batch_size, seq_length, hidden_dim)\n",
    "        \n",
    "        output = self.out(context)\n",
    "        \n",
    "        return output\n"
   ]
  },
  {
   "cell_type": "markdown",
   "id": "fcfe6767-ecc4-4193-8a90-c135ae1d0f72",
   "metadata": {},
   "source": [
    "Implementation: FeedForward\n",
    "\n"
   ]
  },
  {
   "cell_type": "code",
   "execution_count": 12,
   "id": "ea60792e-c732-482a-b847-45d4c6eac28c",
   "metadata": {},
   "outputs": [],
   "source": [
    "class FeedForward(nn.Module):\n",
    "    def __init__(self, hidden_dim, intermediate_dim, dropout_prob=0.1):\n",
    "        super(FeedForward, self).__init__()\n",
    "        self.dense1 = nn.Linear(hidden_dim, intermediate_dim)\n",
    "        self.activation = nn.GELU()\n",
    "        self.dense2 = nn.Linear(intermediate_dim, hidden_dim)\n",
    "        self.dropout = nn.Dropout(dropout_prob)\n",
    "        self.layer_norm = nn.LayerNorm(hidden_dim, eps=1e-12)\n",
    "    \n",
    "    def forward(self, hidden_states):\n",
    "        intermediate = self.activation(self.dense1(hidden_states))\n",
    "        output = self.dense2(intermediate)\n",
    "        output = self.dropout(output)\n",
    "        output = self.layer_norm(output + hidden_states)  # Residual Connection\n",
    "        return output\n"
   ]
  },
  {
   "cell_type": "markdown",
   "id": "3e465655-d3b3-42ec-9516-f85587863ef2",
   "metadata": {},
   "source": [
    "Implementation: BERTLayer\n",
    "\n"
   ]
  },
  {
   "cell_type": "code",
   "execution_count": 13,
   "id": "eb2dd521-4d8a-4969-94cf-fa17a12e99db",
   "metadata": {},
   "outputs": [],
   "source": [
    "class BERTLayer(nn.Module):\n",
    "    def __init__(self, hidden_dim, num_heads, intermediate_dim, dropout_prob=0.1):\n",
    "        super(BERTLayer, self).__init__()\n",
    "        self.attention = MultiHeadSelfAttention(hidden_dim, num_heads, dropout_prob)\n",
    "        self.feed_forward = FeedForward(hidden_dim, intermediate_dim, dropout_prob)\n",
    "        self.layer_norm = nn.LayerNorm(hidden_dim, eps=1e-12)\n",
    "        self.dropout = nn.Dropout(dropout_prob)\n",
    "    \n",
    "    def forward(self, hidden_states, attention_mask):\n",
    "        # Multi-Head Self Attention\n",
    "        attention_output = self.attention(hidden_states, attention_mask)\n",
    "        attention_output = self.dropout(attention_output)\n",
    "        attention_output = self.layer_norm(attention_output + hidden_states)\n",
    "        \n",
    "        # Feed Forward Network\n",
    "        layer_output = self.feed_forward(attention_output)\n",
    "        \n",
    "        return layer_output\n"
   ]
  },
  {
   "cell_type": "code",
   "execution_count": 14,
   "id": "9b1e9da5-9c6f-486a-baa6-bc7ffe8c8e37",
   "metadata": {},
   "outputs": [],
   "source": [
    "class BERTModel(nn.Module):\n",
    "    def __init__(self, vocab_size, hidden_dim=768, num_layers=12, num_heads=12, intermediate_dim=3072, max_position_embeddings=512, segment_vocab_size=2, dropout_prob=0.1):\n",
    "        super(BERTModel, self).__init__()\n",
    "        \n",
    "        # Embedding Layer\n",
    "        self.embedding = BERTEmbedding(vocab_size, hidden_dim, max_position_embeddings, segment_vocab_size, dropout_prob)\n",
    "        \n",
    "        # Stacking BERT Layers\n",
    "        self.layers = nn.ModuleList([\n",
    "            BERTLayer(hidden_dim, num_heads, intermediate_dim, dropout_prob) for _ in range(num_layers)\n",
    "        ])\n",
    "    \n",
    "    def forward(self, input_ids, segment_ids, attention_mask):\n",
    "        # Input Embedding\n",
    "        hidden_states = self.embedding(input_ids, segment_ids)\n",
    "        \n",
    "        # Apply attention mask to ignore padding tokens\n",
    "        extended_attention_mask = attention_mask.unsqueeze(1).unsqueeze(2)\n",
    "        extended_attention_mask = (1.0 - extended_attention_mask) * -10000.0\n",
    "        \n",
    "        # Pass through each BERT Layer\n",
    "        for layer in self.layers:\n",
    "            hidden_states = layer(hidden_states, extended_attention_mask)\n",
    "        \n",
    "        return hidden_states\n"
   ]
  },
  {
   "cell_type": "code",
   "execution_count": 15,
   "id": "164c0773-ef69-4851-93b3-9151b9ac6cb1",
   "metadata": {},
   "outputs": [],
   "source": [
    "class MLMHead(nn.Module):\n",
    "    def __init__(self, hidden_dim, vocab_size):\n",
    "        super(MLMHead, self).__init__()\n",
    "        self.dense = nn.Linear(hidden_dim, hidden_dim)\n",
    "        self.activation = nn.GELU()\n",
    "        self.layer_norm = nn.LayerNorm(hidden_dim, eps=1e-12)\n",
    "        \n",
    "        # Output layer\n",
    "        self.decoder = nn.Linear(hidden_dim, vocab_size)\n",
    "    \n",
    "    def forward(self, hidden_states):\n",
    "        hidden_states = self.dense(hidden_states)\n",
    "        hidden_states = self.activation(hidden_states)\n",
    "        hidden_states = self.layer_norm(hidden_states)\n",
    "        logits = self.decoder(hidden_states)\n",
    "        \n",
    "        return logits\n"
   ]
  },
  {
   "cell_type": "code",
   "execution_count": 16,
   "id": "ed3bbba3-b74c-4045-bd3e-69c9de11682b",
   "metadata": {},
   "outputs": [],
   "source": [
    "class BERTForMaskedLM(nn.Module):\n",
    "    def __init__(self, vocab_size, hidden_dim=768, num_layers=12, num_heads=12, intermediate_dim=3072, max_position_embeddings=512, segment_vocab_size=2, dropout_prob=0.1):\n",
    "        super(BERTForMaskedLM, self).__init__()\n",
    "        \n",
    "        # Base BERT Model\n",
    "        self.bert = BERTModel(vocab_size, hidden_dim, num_layers, num_heads, intermediate_dim, max_position_embeddings, segment_vocab_size, dropout_prob)\n",
    "        \n",
    "        # MLM Head\n",
    "        self.mlm_head = MLMHead(hidden_dim, vocab_size)\n",
    "    \n",
    "    def forward(self, input_ids, segment_ids, attention_mask):\n",
    "        # Forward pass through BERT\n",
    "        hidden_states = self.bert(input_ids, segment_ids, attention_mask)\n",
    "        \n",
    "        # Get logits for masked language modeling\n",
    "        logits = self.mlm_head(hidden_states)\n",
    "        \n",
    "        return logits\n"
   ]
  },
  {
   "cell_type": "code",
   "execution_count": null,
   "id": "dd1537f8-f2c4-490b-9f6f-8cf07b9fcd02",
   "metadata": {},
   "outputs": [
    {
     "name": "stdout",
     "output_type": "stream",
     "text": [
      "Epoch 1/3\n",
      "Average Loss: 0.6857\n",
      "Epoch 2/3\n",
      "Average Loss: 0.5534\n",
      "Epoch 3/3\n"
     ]
    }
   ],
   "source": [
    "import torch.optim as optim\n",
    "from torch.nn import CrossEntropyLoss\n",
    "\n",
    "# Initialize model and move to GPU\n",
    "vocab_size = tokenizer.vocab_size\n",
    "model = BERTForMaskedLM(vocab_size).to(device)\n",
    "\n",
    "# Optimizer (AdamW)\n",
    "optimizer = optim.AdamW(model.parameters(), lr=5e-5, weight_decay=0.01)\n",
    "\n",
    "# Loss Function (CrossEntropy for MLM)\n",
    "criterion = CrossEntropyLoss()\n",
    "\n",
    "# Training Loop\n",
    "epochs = 3  # Feel free to adjust\n",
    "\n",
    "model.train()  # Set model to training mode\n",
    "for epoch in range(epochs):\n",
    "    print(f\"Epoch {epoch+1}/{epochs}\")\n",
    "    total_loss = 0\n",
    "    \n",
    "    for batch in train_loader:\n",
    "        input_ids, attention_mask, segment_ids = [x.to(device) for x in batch]\n",
    "        \n",
    "        # Masking for MLM\n",
    "        input_ids, labels = mask_tokens(input_ids, tokenizer)\n",
    "        input_ids, labels = input_ids.to(device), labels.to(device)\n",
    "        \n",
    "        # Forward pass\n",
    "        logits = model(input_ids, segment_ids, attention_mask)\n",
    "        \n",
    "        # Calculate loss\n",
    "        loss = criterion(logits.view(-1, vocab_size), labels.view(-1))\n",
    "        total_loss += loss.item()\n",
    "        \n",
    "        # Backward pass and optimization\n",
    "        optimizer.zero_grad()\n",
    "        loss.backward()\n",
    "        optimizer.step()\n",
    "    \n",
    "    avg_loss = total_loss / len(train_loader)\n",
    "    print(f\"Average Loss: {avg_loss:.4f}\")\n",
    "\n",
    "\n"
   ]
  },
  {
   "cell_type": "code",
   "execution_count": null,
   "id": "e1758240-ed36-4687-a345-ef8315e02ddc",
   "metadata": {},
   "outputs": [],
   "source": [
    "# Save model weights\n",
    "torch.save(model.state_dict(), 'bert_mlm_weights.pth')\n",
    "print(\"Model weights saved.\")"
   ]
  },
  {
   "cell_type": "code",
   "execution_count": null,
   "id": "54dbca9a-2bb6-4167-bfbf-bb6d747d7ee5",
   "metadata": {},
   "outputs": [],
   "source": []
  },
  {
   "cell_type": "code",
   "execution_count": null,
   "id": "62a7702c-0441-4bb2-85d4-73cea5333365",
   "metadata": {},
   "outputs": [],
   "source": []
  }
 ],
 "metadata": {
  "kernelspec": {
   "display_name": "Python 3 (ipykernel)",
   "language": "python",
   "name": "python3"
  },
  "language_info": {
   "codemirror_mode": {
    "name": "ipython",
    "version": 3
   },
   "file_extension": ".py",
   "mimetype": "text/x-python",
   "name": "python",
   "nbconvert_exporter": "python",
   "pygments_lexer": "ipython3",
   "version": "3.12.6"
  }
 },
 "nbformat": 4,
 "nbformat_minor": 5
}
