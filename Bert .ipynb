{
 "cells": [
  {
   "cell_type": "code",
   "execution_count": 2,
   "id": "4765b136-11de-4612-91b0-72ab412fdd1d",
   "metadata": {},
   "outputs": [
    {
     "name": "stdout",
     "output_type": "stream",
     "text": [
      "Defaulting to user installation because normal site-packages is not writeable\n",
      "Requirement already satisfied: torch in ./.local/lib/python3.12/site-packages (2.5.1+cu121)\n",
      "Requirement already satisfied: transformers in ./.local/lib/python3.12/site-packages (4.48.3)\n",
      "Requirement already satisfied: datasets in ./.local/lib/python3.12/site-packages (3.2.0)\n",
      "Requirement already satisfied: filelock in ./.local/lib/python3.12/site-packages (from torch) (3.17.0)\n",
      "Requirement already satisfied: typing-extensions>=4.8.0 in /opt/tljh/user/lib/python3.12/site-packages (from torch) (4.12.2)\n",
      "Requirement already satisfied: networkx in ./.local/lib/python3.12/site-packages (from torch) (3.4.2)\n",
      "Requirement already satisfied: jinja2 in /opt/tljh/user/lib/python3.12/site-packages (from torch) (3.1.4)\n",
      "Requirement already satisfied: fsspec in ./.local/lib/python3.12/site-packages (from torch) (2024.9.0)\n",
      "Requirement already satisfied: nvidia-cuda-nvrtc-cu12==12.1.105 in ./.local/lib/python3.12/site-packages (from torch) (12.1.105)\n",
      "Requirement already satisfied: nvidia-cuda-runtime-cu12==12.1.105 in ./.local/lib/python3.12/site-packages (from torch) (12.1.105)\n",
      "Requirement already satisfied: nvidia-cuda-cupti-cu12==12.1.105 in ./.local/lib/python3.12/site-packages (from torch) (12.1.105)\n",
      "Requirement already satisfied: nvidia-cudnn-cu12==9.1.0.70 in ./.local/lib/python3.12/site-packages (from torch) (9.1.0.70)\n",
      "Requirement already satisfied: nvidia-cublas-cu12==12.1.3.1 in ./.local/lib/python3.12/site-packages (from torch) (12.1.3.1)\n",
      "Requirement already satisfied: nvidia-cufft-cu12==11.0.2.54 in ./.local/lib/python3.12/site-packages (from torch) (11.0.2.54)\n",
      "Requirement already satisfied: nvidia-curand-cu12==10.3.2.106 in ./.local/lib/python3.12/site-packages (from torch) (10.3.2.106)\n",
      "Requirement already satisfied: nvidia-cusolver-cu12==11.4.5.107 in ./.local/lib/python3.12/site-packages (from torch) (11.4.5.107)\n",
      "Requirement already satisfied: nvidia-cusparse-cu12==12.1.0.106 in ./.local/lib/python3.12/site-packages (from torch) (12.1.0.106)\n",
      "Requirement already satisfied: nvidia-nccl-cu12==2.21.5 in ./.local/lib/python3.12/site-packages (from torch) (2.21.5)\n",
      "Requirement already satisfied: nvidia-nvtx-cu12==12.1.105 in ./.local/lib/python3.12/site-packages (from torch) (12.1.105)\n",
      "Requirement already satisfied: triton==3.1.0 in ./.local/lib/python3.12/site-packages (from torch) (3.1.0)\n",
      "Requirement already satisfied: setuptools in /opt/tljh/user/lib/python3.12/site-packages (from torch) (74.1.2)\n",
      "Requirement already satisfied: sympy==1.13.1 in ./.local/lib/python3.12/site-packages (from torch) (1.13.1)\n",
      "Requirement already satisfied: nvidia-nvjitlink-cu12 in ./.local/lib/python3.12/site-packages (from nvidia-cusolver-cu12==11.4.5.107->torch) (12.4.127)\n",
      "Requirement already satisfied: mpmath<1.4,>=1.1.0 in ./.local/lib/python3.12/site-packages (from sympy==1.13.1->torch) (1.3.0)\n",
      "Requirement already satisfied: huggingface-hub<1.0,>=0.24.0 in ./.local/lib/python3.12/site-packages (from transformers) (0.28.1)\n",
      "Requirement already satisfied: numpy>=1.17 in /opt/tljh/user/lib/python3.12/site-packages (from transformers) (2.2.0)\n",
      "Requirement already satisfied: packaging>=20.0 in /opt/tljh/user/lib/python3.12/site-packages (from transformers) (24.1)\n",
      "Requirement already satisfied: pyyaml>=5.1 in /opt/tljh/user/lib/python3.12/site-packages (from transformers) (6.0.2)\n",
      "Requirement already satisfied: regex!=2019.12.17 in ./.local/lib/python3.12/site-packages (from transformers) (2024.11.6)\n",
      "Requirement already satisfied: requests in /opt/tljh/user/lib/python3.12/site-packages (from transformers) (2.32.3)\n",
      "Requirement already satisfied: tokenizers<0.22,>=0.21 in ./.local/lib/python3.12/site-packages (from transformers) (0.21.0)\n",
      "Requirement already satisfied: safetensors>=0.4.1 in ./.local/lib/python3.12/site-packages (from transformers) (0.5.2)\n",
      "Requirement already satisfied: tqdm>=4.27 in /opt/tljh/user/lib/python3.12/site-packages (from transformers) (4.66.5)\n",
      "Requirement already satisfied: pyarrow>=15.0.0 in ./.local/lib/python3.12/site-packages (from datasets) (19.0.0)\n",
      "Requirement already satisfied: dill<0.3.9,>=0.3.0 in ./.local/lib/python3.12/site-packages (from datasets) (0.3.8)\n",
      "Requirement already satisfied: pandas in /opt/tljh/user/lib/python3.12/site-packages (from datasets) (2.2.3)\n",
      "Requirement already satisfied: xxhash in ./.local/lib/python3.12/site-packages (from datasets) (3.5.0)\n",
      "Requirement already satisfied: multiprocess<0.70.17 in ./.local/lib/python3.12/site-packages (from datasets) (0.70.16)\n",
      "Requirement already satisfied: aiohttp in ./.local/lib/python3.12/site-packages (from datasets) (3.11.12)\n",
      "Requirement already satisfied: aiohappyeyeballs>=2.3.0 in ./.local/lib/python3.12/site-packages (from aiohttp->datasets) (2.4.4)\n",
      "Requirement already satisfied: aiosignal>=1.1.2 in ./.local/lib/python3.12/site-packages (from aiohttp->datasets) (1.3.2)\n",
      "Requirement already satisfied: attrs>=17.3.0 in /opt/tljh/user/lib/python3.12/site-packages (from aiohttp->datasets) (24.3.0)\n",
      "Requirement already satisfied: frozenlist>=1.1.1 in ./.local/lib/python3.12/site-packages (from aiohttp->datasets) (1.5.0)\n",
      "Requirement already satisfied: multidict<7.0,>=4.5 in ./.local/lib/python3.12/site-packages (from aiohttp->datasets) (6.1.0)\n",
      "Requirement already satisfied: propcache>=0.2.0 in ./.local/lib/python3.12/site-packages (from aiohttp->datasets) (0.2.1)\n",
      "Requirement already satisfied: yarl<2.0,>=1.17.0 in ./.local/lib/python3.12/site-packages (from aiohttp->datasets) (1.18.3)\n",
      "Requirement already satisfied: charset-normalizer<4,>=2 in /opt/tljh/user/lib/python3.12/site-packages (from requests->transformers) (3.3.2)\n",
      "Requirement already satisfied: idna<4,>=2.5 in /opt/tljh/user/lib/python3.12/site-packages (from requests->transformers) (3.10)\n",
      "Requirement already satisfied: urllib3<3,>=1.21.1 in /opt/tljh/user/lib/python3.12/site-packages (from requests->transformers) (2.2.3)\n",
      "Requirement already satisfied: certifi>=2017.4.17 in /opt/tljh/user/lib/python3.12/site-packages (from requests->transformers) (2024.12.14)\n",
      "Requirement already satisfied: MarkupSafe>=2.0 in /opt/tljh/user/lib/python3.12/site-packages (from jinja2->torch) (3.0.2)\n",
      "Requirement already satisfied: python-dateutil>=2.8.2 in /opt/tljh/user/lib/python3.12/site-packages (from pandas->datasets) (2.9.0.post0)\n",
      "Requirement already satisfied: pytz>=2020.1 in /opt/tljh/user/lib/python3.12/site-packages (from pandas->datasets) (2024.2)\n",
      "Requirement already satisfied: tzdata>=2022.7 in /opt/tljh/user/lib/python3.12/site-packages (from pandas->datasets) (2024.2)\n",
      "Requirement already satisfied: six>=1.5 in /opt/tljh/user/lib/python3.12/site-packages (from python-dateutil>=2.8.2->pandas->datasets) (1.17.0)\n"
     ]
    }
   ],
   "source": [
    "# Install necessary libraries if not already installed\n",
    "!pip install torch transformers datasets\n",
    "\n",
    "import torch\n",
    "from torch.utils.data import Dataset, DataLoader\n",
    "from transformers import BertTokenizer\n",
    "from datasets import load_dataset\n",
    "import math\n",
    "\n"
   ]
  },
  {
   "cell_type": "code",
   "execution_count": 3,
   "id": "75f595b8-9a44-45d3-9058-468091541937",
   "metadata": {},
   "outputs": [
    {
     "name": "stdout",
     "output_type": "stream",
     "text": [
      "Using device: cuda\n"
     ]
    }
   ],
   "source": [
    "# Check if CUDA is available\n",
    "device = torch.device('cuda' if torch.cuda.is_available() else 'cpu')\n",
    "print(f\"Using device: {device}\")\n",
    "\n"
   ]
  },
  {
   "cell_type": "code",
   "execution_count": 4,
   "id": "a3fe1885-a6cf-46d1-b8e3-c66f7c565fdc",
   "metadata": {},
   "outputs": [
    {
     "name": "stdout",
     "output_type": "stream",
     "text": [
      "Total samples: 74004228\n"
     ]
    }
   ],
   "source": [
    "# Load the BookCorpus dataset from Hugging Face\n",
    "dataset = load_dataset('bookcorpus', split='train')\n",
    "print(\"Total samples:\", len(dataset))\n"
   ]
  },
  {
   "cell_type": "code",
   "execution_count": 5,
   "id": "5f50e959-3dcb-4477-a6b4-a95ac4a0bbf7",
   "metadata": {},
   "outputs": [
    {
     "name": "stdout",
     "output_type": "stream",
     "text": [
      "Subset size: 100000\n"
     ]
    }
   ],
   "source": [
    "# Limit to 100k samples as specified\n",
    "dataset = dataset.select(range(100000))\n",
    "print(\"Subset size:\", len(dataset))\n"
   ]
  },
  {
   "cell_type": "code",
   "execution_count": 6,
   "id": "16bcea52-e53b-490d-a763-838617aeba62",
   "metadata": {},
   "outputs": [],
   "source": [
    "# Initialize the BERT tokenizer (WordPiece)\n",
    "tokenizer = BertTokenizer.from_pretrained('bert-base-uncased')\n"
   ]
  },
  {
   "cell_type": "code",
   "execution_count": 7,
   "id": "52d3796a-7f07-4fd4-b2cb-915c11569d5d",
   "metadata": {},
   "outputs": [],
   "source": [
    "# Tokenization and Preprocessing Function\n",
    "def preprocess(text):\n",
    "    # Tokenize and encode input text\n",
    "    encoding = tokenizer(text, \n",
    "                         add_special_tokens=True, \n",
    "                         truncation=True,\n",
    "                         max_length=128, \n",
    "                         padding='max_length', \n",
    "                         return_tensors='pt')\n",
    "    \n",
    "    # Flatten tensor to (seq_length)\n",
    "    input_ids = encoding['input_ids'].squeeze()\n",
    "    attention_mask = encoding['attention_mask'].squeeze()\n",
    "    \n",
    "    # Create segment ids (all zeros for single sentence input)\n",
    "    segment_ids = torch.zeros_like(input_ids)\n",
    "    \n",
    "    return input_ids, attention_mask, segment_ids\n"
   ]
  },
  {
   "cell_type": "code",
   "execution_count": 8,
   "id": "8f8edac3-e8ba-4da2-b815-63ab4223714e",
   "metadata": {},
   "outputs": [],
   "source": [
    "from torch.utils.data import Dataset\n",
    "\n",
    "# Custom Dataset Class for BookCorpus\n",
    "class BookCorpusDataset(Dataset):\n",
    "    def __init__(self, dataset):\n",
    "        self.dataset = dataset\n",
    "    \n",
    "    def __len__(self):\n",
    "        return len(self.dataset)\n",
    "    \n",
    "    def __getitem__(self, idx):\n",
    "        text = self.dataset[idx]['text']\n",
    "        input_ids, attention_mask, segment_ids = preprocess(text)\n",
    "        return input_ids, attention_mask, segment_ids\n"
   ]
  },
  {
   "cell_type": "code",
   "execution_count": 9,
   "id": "55be2b8a-b1d1-4b4c-b518-c0a8e01ed828",
   "metadata": {},
   "outputs": [
    {
     "name": "stdout",
     "output_type": "stream",
     "text": [
      "Input IDs: torch.Size([8, 128])\n",
      "Attention Mask: torch.Size([8, 128])\n",
      "Segment IDs: torch.Size([8, 128])\n"
     ]
    }
   ],
   "source": [
    "# Create DataLoader for \n",
    "train_dataset = BookCorpusDataset(dataset)\n",
    "train_loader = DataLoader(train_dataset, batch_size= 8, shuffle=True)\n",
    "\n",
    "# Sample check\n",
    "for batch in train_loader:\n",
    "    input_ids, attention_mask, segment_ids = batch\n",
    "    print(\"Input IDs:\", input_ids.shape)\n",
    "    print(\"Attention Mask:\", attention_mask.shape)\n",
    "    print(\"Segment IDs:\", segment_ids.shape)\n",
    "    break\n"
   ]
  },
  {
   "cell_type": "markdown",
   "id": "2a9f5076-7027-4ed7-8c78-9d1a498cb563",
   "metadata": {},
   "source": [
    "Tokenization and Masking for MLM"
   ]
  },
  {
   "cell_type": "code",
   "execution_count": 10,
   "id": "0628d88e-a701-4848-b13b-b28a70985845",
   "metadata": {},
   "outputs": [],
   "source": [
    "import random\n",
    "\n",
    "def mask_tokens(input_ids, tokenizer, mask_prob=0.15):\n",
    "    \"\"\"\n",
    "    Prepare masked tokens inputs/labels for masked language modeling.\n",
    "    \"\"\"\n",
    "    labels = input_ids.clone()\n",
    "    \n",
    "    # Masking (15% of tokens)\n",
    "    probability_matrix = torch.full(labels.shape, mask_prob)\n",
    "    masked_indices = torch.bernoulli(probability_matrix).bool()\n",
    "    labels[~masked_indices] = -100  # Only compute loss on masked tokens\n",
    "    \n",
    "    # Replace 80% of the time with [MASK]\n",
    "    indices_replaced = (torch.bernoulli(torch.full(labels.shape, 0.8)).bool() & masked_indices)\n",
    "    input_ids[indices_replaced] = tokenizer.convert_tokens_to_ids(tokenizer.mask_token)\n",
    "    \n",
    "    # Replace 10% of the time with random token\n",
    "    indices_random = (torch.bernoulli(torch.full(labels.shape, 0.5)).bool() & masked_indices & ~indices_replaced)\n",
    "    random_words = torch.randint(len(tokenizer), labels.shape, dtype=torch.long).to(input_ids.device)  # Move to the same device\n",
    "    input_ids[indices_random] = random_words[indices_random]\n",
    "    \n",
    "    # 10% of the time, keep the original token (already done by default)\n",
    "    return input_ids, labels\n",
    "\n"
   ]
  },
  {
   "cell_type": "markdown",
   "id": "7642e93f-67cd-498a-a9f6-2bb9b534711d",
   "metadata": {},
   "source": [
    "Implementation: BERTEmbedding\n",
    "\n"
   ]
  },
  {
   "cell_type": "code",
   "execution_count": 11,
   "id": "f33f25d6-ada5-4fef-8bf4-a08ec7a5dc00",
   "metadata": {},
   "outputs": [],
   "source": [
    "import torch\n",
    "import torch.nn as nn\n",
    "\n",
    "class BERTEmbedding(nn.Module):\n",
    "    def __init__(self, vocab_size, hidden_dim, max_position_embeddings, segment_vocab_size=2, dropout_prob=0.1):\n",
    "        super(BERTEmbedding, self).__init__()\n",
    "        # Token Embeddings\n",
    "        self.token_embeddings = nn.Embedding(vocab_size, hidden_dim)\n",
    "        \n",
    "        # Position Embeddings\n",
    "        self.position_embeddings = nn.Embedding(max_position_embeddings, hidden_dim)\n",
    "        \n",
    "        # Segment Embeddings (For sentence pairs in NLI tasks)\n",
    "        self.segment_embeddings = nn.Embedding(segment_vocab_size, hidden_dim)\n",
    "        \n",
    "        # Layer Normalization and Dropout\n",
    "        self.layer_norm = nn.LayerNorm(hidden_dim, eps=1e-12)\n",
    "        self.dropout = nn.Dropout(dropout_prob)\n",
    "    \n",
    "    def forward(self, input_ids, segment_ids):\n",
    "        seq_length = input_ids.size(1)\n",
    "        \n",
    "        # Position IDs [0, 1, 2, ..., seq_length-1]\n",
    "        position_ids = torch.arange(seq_length, dtype=torch.long, device=input_ids.device)\n",
    "        position_ids = position_ids.unsqueeze(0).expand_as(input_ids)\n",
    "        \n",
    "        # Get Embeddings\n",
    "        token_embeddings = self.token_embeddings(input_ids)\n",
    "        position_embeddings = self.position_embeddings(position_ids)\n",
    "        segment_embeddings = self.segment_embeddings(segment_ids)\n",
    "        \n",
    "        # Sum and Normalize\n",
    "        embeddings = token_embeddings + position_embeddings + segment_embeddings\n",
    "        embeddings = self.layer_norm(embeddings)\n",
    "        embeddings = self.dropout(embeddings)\n",
    "        \n",
    "        return embeddings\n"
   ]
  },
  {
   "cell_type": "markdown",
   "id": "1c6ed618-edb6-41c1-9188-2314f7539bef",
   "metadata": {},
   "source": [
    "Implementation: MultiHeadSelfAttention\n",
    "\n"
   ]
  },
  {
   "cell_type": "code",
   "execution_count": 12,
   "id": "9250c1de-149e-4d5e-91da-4aeacd09a272",
   "metadata": {},
   "outputs": [],
   "source": [
    "class MultiHeadSelfAttention(nn.Module):\n",
    "    def __init__(self, hidden_dim, num_heads, dropout_prob=0.1):\n",
    "        super(MultiHeadSelfAttention, self).__init__()\n",
    "        assert hidden_dim % num_heads == 0\n",
    "        \n",
    "        # Parameters\n",
    "        self.num_heads = num_heads\n",
    "        self.head_dim = hidden_dim // num_heads\n",
    "        \n",
    "        # Linear layers for Q, K, V\n",
    "        self.query = nn.Linear(hidden_dim, hidden_dim)\n",
    "        self.key = nn.Linear(hidden_dim, hidden_dim)\n",
    "        self.value = nn.Linear(hidden_dim, hidden_dim)\n",
    "        \n",
    "        # Output projection\n",
    "        self.out = nn.Linear(hidden_dim, hidden_dim)\n",
    "        \n",
    "        # Dropout for attention scores\n",
    "        self.dropout = nn.Dropout(dropout_prob)\n",
    "        \n",
    "    def forward(self, hidden_states, attention_mask):\n",
    "        batch_size, seq_length, hidden_dim = hidden_states.size()\n",
    "        \n",
    "        # Linear projections\n",
    "        query = self.query(hidden_states)\n",
    "        key = self.key(hidden_states)\n",
    "        value = self.value(hidden_states)\n",
    "        \n",
    "        # Reshape to (batch_size, num_heads, seq_length, head_dim)\n",
    "        query = query.view(batch_size, seq_length, self.num_heads, self.head_dim).transpose(1, 2)\n",
    "        key = key.view(batch_size, seq_length, self.num_heads, self.head_dim).transpose(1, 2)\n",
    "        value = value.view(batch_size, seq_length, self.num_heads, self.head_dim).transpose(1, 2)\n",
    "        \n",
    "        # Scaled Dot-Product Attention\n",
    "        attention_scores = torch.matmul(query, key.transpose(-2, -1)) / math.sqrt(self.head_dim)\n",
    "        attention_scores += attention_mask\n",
    "        \n",
    "        attention_probs = nn.Softmax(dim=-1)(attention_scores)\n",
    "        attention_probs = self.dropout(attention_probs)\n",
    "        \n",
    "        context = torch.matmul(attention_probs, value)\n",
    "        context = context.transpose(1, 2).contiguous().view(batch_size, seq_length, hidden_dim)\n",
    "        \n",
    "        output = self.out(context)\n",
    "        \n",
    "        return output\n"
   ]
  },
  {
   "cell_type": "markdown",
   "id": "fcfe6767-ecc4-4193-8a90-c135ae1d0f72",
   "metadata": {},
   "source": [
    "Implementation: FeedForward\n",
    "\n"
   ]
  },
  {
   "cell_type": "code",
   "execution_count": 13,
   "id": "ea60792e-c732-482a-b847-45d4c6eac28c",
   "metadata": {},
   "outputs": [],
   "source": [
    "class FeedForward(nn.Module):\n",
    "    def __init__(self, hidden_dim, intermediate_dim, dropout_prob=0.1):\n",
    "        super(FeedForward, self).__init__()\n",
    "        self.dense1 = nn.Linear(hidden_dim, intermediate_dim)\n",
    "        self.activation = nn.GELU()\n",
    "        self.dense2 = nn.Linear(intermediate_dim, hidden_dim)\n",
    "        self.dropout = nn.Dropout(dropout_prob)\n",
    "        self.layer_norm = nn.LayerNorm(hidden_dim, eps=1e-12)\n",
    "    \n",
    "    def forward(self, hidden_states):\n",
    "        intermediate = self.activation(self.dense1(hidden_states))\n",
    "        output = self.dense2(intermediate)\n",
    "        output = self.dropout(output)\n",
    "        output = self.layer_norm(output + hidden_states)  # Residual Connection\n",
    "        return output\n"
   ]
  },
  {
   "cell_type": "markdown",
   "id": "3e465655-d3b3-42ec-9516-f85587863ef2",
   "metadata": {},
   "source": [
    "Implementation: BERTLayer\n",
    "\n"
   ]
  },
  {
   "cell_type": "code",
   "execution_count": 14,
   "id": "eb2dd521-4d8a-4969-94cf-fa17a12e99db",
   "metadata": {},
   "outputs": [],
   "source": [
    "class BERTLayer(nn.Module):\n",
    "    def __init__(self, hidden_dim, num_heads, intermediate_dim, dropout_prob=0.1):\n",
    "        super(BERTLayer, self).__init__()\n",
    "        self.attention = MultiHeadSelfAttention(hidden_dim, num_heads, dropout_prob)\n",
    "        self.feed_forward = FeedForward(hidden_dim, intermediate_dim, dropout_prob)\n",
    "        self.layer_norm = nn.LayerNorm(hidden_dim, eps=1e-12)\n",
    "        self.dropout = nn.Dropout(dropout_prob)\n",
    "    \n",
    "    def forward(self, hidden_states, attention_mask):\n",
    "        # Multi-Head Self Attention\n",
    "        attention_output = self.attention(hidden_states, attention_mask)\n",
    "        attention_output = self.dropout(attention_output)\n",
    "        attention_output = self.layer_norm(attention_output + hidden_states)\n",
    "        \n",
    "        # Feed Forward Network\n",
    "        layer_output = self.feed_forward(attention_output)\n",
    "        \n",
    "        return layer_output\n"
   ]
  },
  {
   "cell_type": "code",
   "execution_count": 15,
   "id": "9b1e9da5-9c6f-486a-baa6-bc7ffe8c8e37",
   "metadata": {},
   "outputs": [],
   "source": [
    "class BERTModel(nn.Module):\n",
    "    def __init__(self, vocab_size, hidden_dim=768, num_layers=12, num_heads=12, intermediate_dim=3072, max_position_embeddings=512, segment_vocab_size=2, dropout_prob=0.1):\n",
    "        super(BERTModel, self).__init__()\n",
    "        \n",
    "        # Embedding Layer\n",
    "        self.embedding = BERTEmbedding(vocab_size, hidden_dim, max_position_embeddings, segment_vocab_size, dropout_prob)\n",
    "        \n",
    "        # Stacking BERT Layers\n",
    "        self.layers = nn.ModuleList([\n",
    "            BERTLayer(hidden_dim, num_heads, intermediate_dim, dropout_prob) for _ in range(num_layers)\n",
    "        ])\n",
    "    \n",
    "    def forward(self, input_ids, segment_ids, attention_mask):\n",
    "        # Input Embedding\n",
    "        hidden_states = self.embedding(input_ids, segment_ids)\n",
    "        \n",
    "        # Apply attention mask to ignore padding tokens\n",
    "        extended_attention_mask = attention_mask.unsqueeze(1).unsqueeze(2)\n",
    "        extended_attention_mask = (1.0 - extended_attention_mask) * -10000.0\n",
    "        \n",
    "        # Pass through each BERT Layer\n",
    "        for layer in self.layers:\n",
    "            hidden_states = layer(hidden_states, extended_attention_mask)\n",
    "        \n",
    "        return hidden_states\n"
   ]
  },
  {
   "cell_type": "code",
   "execution_count": 16,
   "id": "164c0773-ef69-4851-93b3-9151b9ac6cb1",
   "metadata": {},
   "outputs": [],
   "source": [
    "class MLMHead(nn.Module):\n",
    "    def __init__(self, hidden_dim, vocab_size):\n",
    "        super(MLMHead, self).__init__()\n",
    "        self.dense = nn.Linear(hidden_dim, hidden_dim)\n",
    "        self.activation = nn.GELU()\n",
    "        self.layer_norm = nn.LayerNorm(hidden_dim, eps=1e-12)\n",
    "        \n",
    "        # Output layer\n",
    "        self.decoder = nn.Linear(hidden_dim, vocab_size)\n",
    "    \n",
    "    def forward(self, hidden_states):\n",
    "        hidden_states = self.dense(hidden_states)\n",
    "        hidden_states = self.activation(hidden_states)\n",
    "        hidden_states = self.layer_norm(hidden_states)\n",
    "        logits = self.decoder(hidden_states)\n",
    "        \n",
    "        return logits\n"
   ]
  },
  {
   "cell_type": "code",
   "execution_count": 17,
   "id": "ed3bbba3-b74c-4045-bd3e-69c9de11682b",
   "metadata": {},
   "outputs": [],
   "source": [
    "class BERTForMaskedLM(nn.Module):\n",
    "    def __init__(self, vocab_size, hidden_dim=768, num_layers=12, num_heads=12, intermediate_dim=3072, max_position_embeddings=512, segment_vocab_size=2, dropout_prob=0.1):\n",
    "        super(BERTForMaskedLM, self).__init__()\n",
    "        \n",
    "        # Base BERT Model\n",
    "        self.bert = BERTModel(vocab_size, hidden_dim, num_layers, num_heads, intermediate_dim, max_position_embeddings, segment_vocab_size, dropout_prob)\n",
    "        \n",
    "        # MLM Head\n",
    "        self.mlm_head = MLMHead(hidden_dim, vocab_size)\n",
    "    \n",
    "    def forward(self, input_ids, segment_ids, attention_mask):\n",
    "        # Forward pass through BERT\n",
    "        hidden_states = self.bert(input_ids, segment_ids, attention_mask)\n",
    "        \n",
    "        # Get logits for masked language modeling\n",
    "        logits = self.mlm_head(hidden_states)\n",
    "        \n",
    "        return logits\n"
   ]
  },
  {
   "cell_type": "code",
   "execution_count": 18,
   "id": "dd1537f8-f2c4-490b-9f6f-8cf07b9fcd02",
   "metadata": {},
   "outputs": [
    {
     "name": "stdout",
     "output_type": "stream",
     "text": [
      "Epoch 1/3\n",
      "Average Loss: 0.6750\n",
      "Epoch 2/3\n",
      "Average Loss: 0.5441\n",
      "Epoch 3/3\n",
      "Average Loss: 0.5051\n"
     ]
    }
   ],
   "source": [
    "import torch.optim as optim\n",
    "from torch.nn import CrossEntropyLoss\n",
    "\n",
    "# Initialize model and move to GPU\n",
    "vocab_size = tokenizer.vocab_size\n",
    "model = BERTForMaskedLM(vocab_size).to(device)\n",
    "\n",
    "# Optimizer (AdamW)\n",
    "optimizer = optim.AdamW(model.parameters(), lr=5e-5, weight_decay=0.01)\n",
    "\n",
    "# Loss Function (CrossEntropy for MLM)\n",
    "criterion = CrossEntropyLoss()\n",
    "\n",
    "# Training Loop\n",
    "epochs = 3  # Feel free to adjust\n",
    "\n",
    "model.train()  # Set model to training mode\n",
    "for epoch in range(epochs):\n",
    "    print(f\"Epoch {epoch+1}/{epochs}\")\n",
    "    total_loss = 0\n",
    "    \n",
    "    for batch in train_loader:\n",
    "        input_ids, attention_mask, segment_ids = [x.to(device) for x in batch]\n",
    "        \n",
    "        # Masking for MLM\n",
    "        input_ids, labels = mask_tokens(input_ids, tokenizer)\n",
    "        input_ids, labels = input_ids.to(device), labels.to(device)\n",
    "        \n",
    "        # Forward pass\n",
    "        logits = model(input_ids, segment_ids, attention_mask)\n",
    "        \n",
    "        # Calculate loss\n",
    "        loss = criterion(logits.view(-1, vocab_size), labels.view(-1))\n",
    "        total_loss += loss.item()\n",
    "        \n",
    "        # Backward pass and optimization\n",
    "        optimizer.zero_grad()\n",
    "        loss.backward()\n",
    "        optimizer.step()\n",
    "    \n",
    "    avg_loss = total_loss / len(train_loader)\n",
    "    print(f\"Average Loss: {avg_loss:.4f}\")\n",
    "\n",
    "\n"
   ]
  },
  {
   "cell_type": "code",
   "execution_count": 19,
   "id": "e1758240-ed36-4687-a345-ef8315e02ddc",
   "metadata": {},
   "outputs": [
    {
     "name": "stdout",
     "output_type": "stream",
     "text": [
      "Model weights saved.\n"
     ]
    }
   ],
   "source": [
    "# Save model weights\n",
    "torch.save(model.state_dict(), 'bert_mlm_weights.pth')\n",
    "print(\"Model weights saved.\")"
   ]
  },
  {
   "cell_type": "code",
   "execution_count": null,
   "id": "fc23f11a-eb63-4445-8ed9-41d7af667341",
   "metadata": {},
   "outputs": [],
   "source": []
  },
  {
   "cell_type": "markdown",
   "id": "fd599398-7ef5-43f1-a5ef-3570025d8f28",
   "metadata": {},
   "source": [
    "Task 2. Sentence Embedding with Sentence BERT"
   ]
  },
  {
   "cell_type": "code",
   "execution_count": 49,
   "id": "54dbca9a-2bb6-4167-bfbf-bb6d747d7ee5",
   "metadata": {},
   "outputs": [],
   "source": [
    "import torch\n",
    "import torch.nn as nn\n",
    "import torch.optim as optim\n",
    "from transformers import BertTokenizer, BertModel\n",
    "from datasets import load_dataset\n",
    "from torch.utils.data import DataLoader, Dataset\n",
    "from torch.cuda.amp import autocast, GradScaler\n"
   ]
  },
  {
   "cell_type": "code",
   "execution_count": 50,
   "id": "5f0e8072-51dd-4991-a786-b0548bde50cc",
   "metadata": {},
   "outputs": [],
   "source": [
    "device = torch.device(\"cuda\" if torch.cuda.is_available() else \"cpu\")"
   ]
  },
  {
   "cell_type": "code",
   "execution_count": 51,
   "id": "81d791b7-04a9-4402-9555-93954ebbbd8e",
   "metadata": {},
   "outputs": [
    {
     "name": "stdout",
     "output_type": "stream",
     "text": [
      "Defaulting to user installation because normal site-packages is not writeable\n",
      "Requirement already satisfied: transformers in ./.local/lib/python3.12/site-packages (4.48.3)\n",
      "Requirement already satisfied: filelock in ./.local/lib/python3.12/site-packages (from transformers) (3.17.0)\n",
      "Requirement already satisfied: huggingface-hub<1.0,>=0.24.0 in ./.local/lib/python3.12/site-packages (from transformers) (0.28.1)\n",
      "Requirement already satisfied: numpy>=1.17 in /opt/tljh/user/lib/python3.12/site-packages (from transformers) (2.2.0)\n",
      "Requirement already satisfied: packaging>=20.0 in /opt/tljh/user/lib/python3.12/site-packages (from transformers) (24.1)\n",
      "Requirement already satisfied: pyyaml>=5.1 in /opt/tljh/user/lib/python3.12/site-packages (from transformers) (6.0.2)\n",
      "Requirement already satisfied: regex!=2019.12.17 in ./.local/lib/python3.12/site-packages (from transformers) (2024.11.6)\n",
      "Requirement already satisfied: requests in /opt/tljh/user/lib/python3.12/site-packages (from transformers) (2.32.3)\n",
      "Requirement already satisfied: tokenizers<0.22,>=0.21 in ./.local/lib/python3.12/site-packages (from transformers) (0.21.0)\n",
      "Requirement already satisfied: safetensors>=0.4.1 in ./.local/lib/python3.12/site-packages (from transformers) (0.5.2)\n",
      "Requirement already satisfied: tqdm>=4.27 in /opt/tljh/user/lib/python3.12/site-packages (from transformers) (4.66.5)\n",
      "Requirement already satisfied: fsspec>=2023.5.0 in ./.local/lib/python3.12/site-packages (from huggingface-hub<1.0,>=0.24.0->transformers) (2024.9.0)\n",
      "Requirement already satisfied: typing-extensions>=3.7.4.3 in /opt/tljh/user/lib/python3.12/site-packages (from huggingface-hub<1.0,>=0.24.0->transformers) (4.12.2)\n",
      "Requirement already satisfied: charset-normalizer<4,>=2 in /opt/tljh/user/lib/python3.12/site-packages (from requests->transformers) (3.3.2)\n",
      "Requirement already satisfied: idna<4,>=2.5 in /opt/tljh/user/lib/python3.12/site-packages (from requests->transformers) (3.10)\n",
      "Requirement already satisfied: urllib3<3,>=1.21.1 in /opt/tljh/user/lib/python3.12/site-packages (from requests->transformers) (2.2.3)\n",
      "Requirement already satisfied: certifi>=2017.4.17 in /opt/tljh/user/lib/python3.12/site-packages (from requests->transformers) (2024.12.14)\n"
     ]
    }
   ],
   "source": [
    "!pip install transformers\n",
    "from transformers import BertTokenizer, BertModel\n"
   ]
  },
  {
   "cell_type": "code",
   "execution_count": 60,
   "id": "ad1e6d2c-deb4-49d3-8e12-82b3353f5251",
   "metadata": {},
   "outputs": [
    {
     "data": {
      "text/plain": [
       "BertModel(\n",
       "  (embeddings): BertEmbeddings(\n",
       "    (word_embeddings): Embedding(30522, 768, padding_idx=0)\n",
       "    (position_embeddings): Embedding(512, 768)\n",
       "    (token_type_embeddings): Embedding(2, 768)\n",
       "    (LayerNorm): LayerNorm((768,), eps=1e-12, elementwise_affine=True)\n",
       "    (dropout): Dropout(p=0.1, inplace=False)\n",
       "  )\n",
       "  (encoder): BertEncoder(\n",
       "    (layer): ModuleList(\n",
       "      (0-11): 12 x BertLayer(\n",
       "        (attention): BertAttention(\n",
       "          (self): BertSdpaSelfAttention(\n",
       "            (query): Linear(in_features=768, out_features=768, bias=True)\n",
       "            (key): Linear(in_features=768, out_features=768, bias=True)\n",
       "            (value): Linear(in_features=768, out_features=768, bias=True)\n",
       "            (dropout): Dropout(p=0.1, inplace=False)\n",
       "          )\n",
       "          (output): BertSelfOutput(\n",
       "            (dense): Linear(in_features=768, out_features=768, bias=True)\n",
       "            (LayerNorm): LayerNorm((768,), eps=1e-12, elementwise_affine=True)\n",
       "            (dropout): Dropout(p=0.1, inplace=False)\n",
       "          )\n",
       "        )\n",
       "        (intermediate): BertIntermediate(\n",
       "          (dense): Linear(in_features=768, out_features=3072, bias=True)\n",
       "          (intermediate_act_fn): GELUActivation()\n",
       "        )\n",
       "        (output): BertOutput(\n",
       "          (dense): Linear(in_features=3072, out_features=768, bias=True)\n",
       "          (LayerNorm): LayerNorm((768,), eps=1e-12, elementwise_affine=True)\n",
       "          (dropout): Dropout(p=0.1, inplace=False)\n",
       "        )\n",
       "      )\n",
       "    )\n",
       "  )\n",
       "  (pooler): BertPooler(\n",
       "    (dense): Linear(in_features=768, out_features=768, bias=True)\n",
       "    (activation): Tanh()\n",
       "  )\n",
       ")"
      ]
     },
     "execution_count": 60,
     "metadata": {},
     "output_type": "execute_result"
    }
   ],
   "source": [
    "# 1. Load or Initialize the Base BERT Model from Task 1\n",
    "# =============================================================================\n",
    "# custom BERT from Task 1, load it here.\n",
    "\n",
    "import torch\n",
    "from transformers import BertTokenizer, BertModel\n",
    "\n",
    "# Device configuration: use CUDA if available.\n",
    "device = torch.device(\"cuda\" if torch.cuda.is_available() else \"cpu\")\n",
    "\n",
    "# Load the pretrained BERT model.\n",
    "tokenizer = BertTokenizer.from_pretrained('bert-base-uncased')\n",
    "base_bert = BertModel.from_pretrained('bert-base-uncased')\n",
    "base_bert.to(device)\n"
   ]
  },
  {
   "cell_type": "code",
   "execution_count": 43,
   "id": "989aa9db-1081-4df2-9653-ec24d8f6c6a0",
   "metadata": {},
   "outputs": [],
   "source": [
    "# 2. Prepare the SNLI Dataset\n",
    "# =============================================================================\n",
    "class SNLIDataset(Dataset):\n",
    "    def __init__(self, split='train', max_samples=10000, max_length=64):\n",
    "        full_dataset = load_dataset(\"snli\", split=split)\n",
    "        # Filter out examples with missing labels (-1 indicates an invalid label)\n",
    "        filtered_dataset = full_dataset.filter(lambda x: x['label'] != -1)\n",
    "        # Select a subset using the select() method\n",
    "        self.dataset = filtered_dataset.select(range(min(max_samples, len(filtered_dataset))))\n",
    "        self.max_length = max_length\n",
    "\n",
    "    def __len__(self):\n",
    "        return len(self.dataset)\n",
    "\n",
    "    def __getitem__(self, idx):\n",
    "        item = self.dataset[idx]\n",
    "        # Get sentence pair and label: premise and hypothesis\n",
    "        sent1 = item['premise']\n",
    "        sent2 = item['hypothesis']\n",
    "        label = item['label']\n",
    "        return sent1, sent2, label\n",
    "\n",
    "def collate_fn(batch):\n",
    "    # Unpack batch items: each is a tuple (sent1, sent2, label)\n",
    "    sents1, sents2, labels = zip(*batch)\n",
    "    encoding1 = tokenizer(list(sents1), padding=True, truncation=True, max_length=64, return_tensors=\"pt\")\n",
    "    encoding2 = tokenizer(list(sents2), padding=True, truncation=True, max_length=64, return_tensors=\"pt\")\n",
    "    labels = torch.tensor(labels, dtype=torch.long)\n",
    "    return encoding1, encoding2, labels\n"
   ]
  },
  {
   "cell_type": "code",
   "execution_count": 53,
   "id": "fe923567-a8b6-41f7-be23-a8169dd5bd7a",
   "metadata": {},
   "outputs": [],
   "source": [
    "# Create DataLoader for training data.\n",
    "train_dataset = SNLIDataset(split=\"train\", max_samples=5000)\n",
    "train_loader = DataLoader(train_dataset, batch_size=16, shuffle=True, collate_fn=collate_fn)\n"
   ]
  },
  {
   "cell_type": "code",
   "execution_count": 54,
   "id": "c6461998-03ef-4c4b-afab-d58fd58c0928",
   "metadata": {},
   "outputs": [],
   "source": [
    "# 3. Define the Sentence-BERT Model with a Siamese Network Structure\n",
    "# =============================================================================\n",
    "class SentenceBERT(nn.Module):\n",
    "    def __init__(self, base_bert, hidden_size=768, num_classes=3):\n",
    "        super(SentenceBERT, self).__init__()\n",
    "        self.bert = base_bert  # Shared BERT encoder for both sentences.\n",
    "        # Classifier: takes concatenated features [u, v, |u - v|].\n",
    "        self.classifier = nn.Linear(hidden_size * 3, num_classes)\n",
    "    \n",
    "    def forward(self, encoding1, encoding2):\n",
    "        # Encode first sentence.\n",
    "        outputs1 = self.bert(\n",
    "            input_ids=encoding1['input_ids'].to(device),\n",
    "            attention_mask=encoding1['attention_mask'].to(device)\n",
    "        )\n",
    "        # Encode second sentence.\n",
    "        outputs2 = self.bert(\n",
    "            input_ids=encoding2['input_ids'].to(device),\n",
    "            attention_mask=encoding2['attention_mask'].to(device)\n",
    "        )\n",
    "        # Extract the [CLS] token embedding.\n",
    "        u = outputs1.last_hidden_state[:, 0]  # Shape: [batch_size, hidden_size]\n",
    "        v = outputs2.last_hidden_state[:, 0]  # Shape: [batch_size, hidden_size]\n",
    "        \n",
    "        # Compute the element-wise absolute difference between embeddings.\n",
    "        diff = torch.abs(u - v)\n",
    "        # Concatenate the embeddings and their difference: [u, v, |u-v|].\n",
    "        combined = torch.cat([u, v, diff], dim=1)\n",
    "        # Compute the logits using the classifier.\n",
    "        logits = self.classifier(combined)\n",
    "        return logits, u, v  # Also returning individual embeddings for optional cosine-similarity analysis.\n"
   ]
  },
  {
   "cell_type": "code",
   "execution_count": 55,
   "id": "a5a405e0-b259-4b70-b05a-9a8d4c7e346a",
   "metadata": {},
   "outputs": [],
   "source": [
    "# Instantiate the SentenceBERT model and move it to the device.\n",
    "model = SentenceBERT(base_bert=base_bert).to(device)\n"
   ]
  },
  {
   "cell_type": "code",
   "execution_count": 56,
   "id": "552a6528-df0c-4240-a854-bba3265f5733",
   "metadata": {},
   "outputs": [],
   "source": [
    "# 4. Set Up the Loss Function and Optimizer\n",
    "# =============================================================================\n",
    "criterion = nn.CrossEntropyLoss()  # Implements the Softmax and cross-entropy loss.\n",
    "optimizer = optim.Adam(model.parameters(), lr=2e-5)\n"
   ]
  },
  {
   "cell_type": "code",
   "execution_count": 57,
   "id": "d65f86ba-10f5-413e-95b7-ec4d10593ce1",
   "metadata": {},
   "outputs": [
    {
     "name": "stdout",
     "output_type": "stream",
     "text": [
      "Epoch [1/3], Step [50/313], Loss: 1.0671\n",
      "Epoch [1/3], Step [100/313], Loss: 1.1226\n",
      "Epoch [1/3], Step [150/313], Loss: 0.9482\n",
      "Epoch [1/3], Step [200/313], Loss: 0.9279\n",
      "Epoch [1/3], Step [250/313], Loss: 0.8351\n",
      "Epoch [1/3], Step [300/313], Loss: 0.8868\n",
      "Epoch [1/3] Average Loss: 0.9892\n",
      "Epoch [2/3], Step [50/313], Loss: 0.8520\n",
      "Epoch [2/3], Step [100/313], Loss: 0.7347\n",
      "Epoch [2/3], Step [150/313], Loss: 0.7055\n",
      "Epoch [2/3], Step [200/313], Loss: 0.9689\n",
      "Epoch [2/3], Step [250/313], Loss: 0.7676\n",
      "Epoch [2/3], Step [300/313], Loss: 0.6561\n",
      "Epoch [2/3] Average Loss: 0.7650\n",
      "Epoch [3/3], Step [50/313], Loss: 0.4416\n",
      "Epoch [3/3], Step [100/313], Loss: 0.8020\n",
      "Epoch [3/3], Step [150/313], Loss: 0.7125\n",
      "Epoch [3/3], Step [200/313], Loss: 0.5011\n",
      "Epoch [3/3], Step [250/313], Loss: 0.8470\n",
      "Epoch [3/3], Step [300/313], Loss: 0.6946\n",
      "Epoch [3/3] Average Loss: 0.5489\n"
     ]
    }
   ],
   "source": [
    "# 5. Training Loop\n",
    "# =============================================================================\n",
    "num_epochs = 3  # Adjust the number of epochs as needed.\n",
    "model.train()\n",
    "\n",
    "for epoch in range(num_epochs):\n",
    "    running_loss = 0.0\n",
    "    for batch_idx, (encoding1, encoding2, labels) in enumerate(train_loader):\n",
    "        optimizer.zero_grad()\n",
    "        logits, u, v = model(encoding1, encoding2)\n",
    "        loss = criterion(logits, labels.to(device))\n",
    "        loss.backward()\n",
    "        optimizer.step()\n",
    "        running_loss += loss.item()\n",
    "\n",
    "        if (batch_idx + 1) % 50 == 0:\n",
    "            print(f\"Epoch [{epoch+1}/{num_epochs}], Step [{batch_idx+1}/{len(train_loader)}], Loss: {loss.item():.4f}\")\n",
    "    \n",
    "    avg_loss = running_loss / len(train_loader)\n",
    "    print(f\"Epoch [{epoch+1}/{num_epochs}] Average Loss: {avg_loss:.4f}\")\n"
   ]
  },
  {
   "cell_type": "code",
   "execution_count": 58,
   "id": "af222aab-b72b-48ec-835e-8cd5b2d3a0c7",
   "metadata": {},
   "outputs": [
    {
     "name": "stdout",
     "output_type": "stream",
     "text": [
      "Model saved as sentence_bert_model.pt\n"
     ]
    }
   ],
   "source": [
    "torch.save(model.state_dict(), \"sentence_bert_model.pt\")\n",
    "print(\"Model saved as sentence_bert_model.pt\")"
   ]
  },
  {
   "cell_type": "markdown",
   "id": "e7c74b79-6cd2-44d4-a5ee-4903ffd95e2d",
   "metadata": {},
   "source": [
    "Task 3. Evaluation and Analysis"
   ]
  },
  {
   "cell_type": "code",
   "execution_count": 59,
   "id": "55dac250-f8a9-48e8-afda-10d5dd45415d",
   "metadata": {},
   "outputs": [
    {
     "data": {
      "application/vnd.jupyter.widget-view+json": {
       "model_id": "f832d052d47f4e8daa355025b198bcea",
       "version_major": 2,
       "version_minor": 0
      },
      "text/plain": [
       "Filter:   0%|          | 0/10000 [00:00<?, ? examples/s]"
      ]
     },
     "metadata": {},
     "output_type": "display_data"
    },
    {
     "name": "stdout",
     "output_type": "stream",
     "text": [
      "Test Accuracy: 65.20%\n"
     ]
    }
   ],
   "source": [
    "import torch\n",
    "from torch.utils.data import DataLoader\n",
    "\n",
    "# Assuming SNLIDataset and collate_fn are already defined as before.\n",
    "# Load the test split (you can also use 'validation' if preferred)\n",
    "test_dataset = SNLIDataset(split=\"validation\", max_samples=1000)\n",
    "test_loader = DataLoader(test_dataset, batch_size=16, shuffle=False, collate_fn=collate_fn)\n",
    "\n",
    "model.eval()  # Set model to evaluation mode\n",
    "\n",
    "correct = 0\n",
    "total = 0\n",
    "with torch.no_grad():\n",
    "    for encoding1, encoding2, labels in test_loader:\n",
    "        logits, _, _ = model(encoding1, encoding2)\n",
    "        predictions = torch.argmax(logits, dim=1)\n",
    "        correct += (predictions == labels.to(device)).sum().item()\n",
    "        total += labels.size(0)\n",
    "\n",
    "accuracy = correct / total\n",
    "print(f\"Test Accuracy: {accuracy * 100:.2f}%\")\n"
   ]
  },
  {
   "cell_type": "code",
   "execution_count": null,
   "id": "bfe8d9fa-0360-4068-9909-0c972272b595",
   "metadata": {},
   "outputs": [],
   "source": []
  },
  {
   "cell_type": "code",
   "execution_count": null,
   "id": "7207636f-882f-4522-b1d5-ae2a573d344d",
   "metadata": {},
   "outputs": [],
   "source": []
  },
  {
   "cell_type": "code",
   "execution_count": null,
   "id": "783965e1-cbad-4062-9faa-303cb441c948",
   "metadata": {},
   "outputs": [],
   "source": []
  },
  {
   "cell_type": "code",
   "execution_count": null,
   "id": "44fc3415-537c-41a3-aa57-f7bf6335f178",
   "metadata": {},
   "outputs": [],
   "source": []
  },
  {
   "cell_type": "code",
   "execution_count": null,
   "id": "11fce82a-b072-4be3-a3b2-4e6efde4403b",
   "metadata": {},
   "outputs": [],
   "source": []
  },
  {
   "cell_type": "code",
   "execution_count": null,
   "id": "415b1f7b-b6bf-479a-a74b-9e18e706ae31",
   "metadata": {},
   "outputs": [],
   "source": []
  },
  {
   "cell_type": "code",
   "execution_count": null,
   "id": "e00c5e94-4a0b-4737-b321-c54d962de290",
   "metadata": {},
   "outputs": [],
   "source": []
  }
 ],
 "metadata": {
  "kernelspec": {
   "display_name": "Python 3 (ipykernel)",
   "language": "python",
   "name": "python3"
  },
  "language_info": {
   "codemirror_mode": {
    "name": "ipython",
    "version": 3
   },
   "file_extension": ".py",
   "mimetype": "text/x-python",
   "name": "python",
   "nbconvert_exporter": "python",
   "pygments_lexer": "ipython3",
   "version": "3.12.6"
  }
 },
 "nbformat": 4,
 "nbformat_minor": 5
}
